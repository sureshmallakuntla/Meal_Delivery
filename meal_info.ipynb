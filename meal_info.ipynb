{
 "cells": [
  {
   "cell_type": "code",
   "execution_count": 1,
   "id": "f9954b74",
   "metadata": {},
   "outputs": [],
   "source": [
    "#importing packages\n",
    "import pymongo\n",
    "from pymongo import MongoClient"
   ]
  },
  {
   "cell_type": "code",
   "execution_count": 2,
   "id": "8db8783c",
   "metadata": {},
   "outputs": [],
   "source": [
    "#Connection to MongoDB instance\n",
    "client = pymongo.MongoClient('localhost',27017)"
   ]
  },
  {
   "cell_type": "code",
   "execution_count": 3,
   "id": "ca76d60d",
   "metadata": {},
   "outputs": [],
   "source": [
    "#Creating a Database\n",
    "db = client['mealinfoDB']"
   ]
  },
  {
   "cell_type": "code",
   "execution_count": 4,
   "id": "0dbe72fb",
   "metadata": {},
   "outputs": [],
   "source": [
    "#Creating a Collection\n",
    "collection=db[\"mealinfo\"]"
   ]
  },
  {
   "cell_type": "code",
   "execution_count": 5,
   "id": "cce1d5d2",
   "metadata": {},
   "outputs": [],
   "source": [
    "#meal_info\n",
    "record  = [{\"meal_id\":1885,\"category\":\"Beverages\",\"cuisine\":\"Thai\"},\n",
    "           {\"meal_id\":1993,\"category\":\"Beverages\",\"cuisine\":\"Thai\"},\n",
    "           {\"meal_id\":2539,\"category\":\"Beverages\",\"cuisine\":\"Thai\"},\n",
    "           {\"meal_id\":1248,\"category\":\"Beverages\",\"cuisine\":\"Indian\"},\n",
    "           {\"meal_id\":2631,\"category\":\"Beverages\",\"cuisine\":\"Indian\"},\n",
    "           {\"meal_id\":1311,\"category\":\"Extras\",\"cuisine\":\"Thai\"},\n",
    "           {\"meal_id\":1062,\"category\":\"Beverages\",\"cuisine\":\"Italian\"},\n",
    "           {\"meal_id\":1778,\"category\":\"Beverages\",\"cuisine\":\"Italian\"},\n",
    "           {\"meal_id\":1803,\"category\":\"Extras\",\"cuisine\":\"Thai\"},\n",
    "           {\"meal_id\":1198,\"category\":\"Extras\",\"cuisine\":\"Thai\"},\n",
    "           {\"meal_id\":2707,\"category\":\"Beverages\",\"cuisine\":\"Italian\"},\n",
    "           {\"meal_id\":1847,\"category\":\"Soup\",\"cuisine\":\"Thai\"},\n",
    "           {\"meal_id\":1438,\"category\":\"Soup\",\"cuisine\":\"Thai\"},\n",
    "           {\"meal_id\":2494,\"category\":\"Soup\",\"cuisine\":\"Thai\"},\n",
    "           {\"meal_id\":2760,\"category\":\"Other Snacks\",\"cuisine\":\"Thai\"},\n",
    "           {\"meal_id\":2490,\"category\":\"Salad\",\"cuisine\":\"Italian\"},\n",
    "           {\"meal_id\":1109,\"category\":\"Rice Bowl\",\"cuisine\":\"Indian\"},\n",
    "           {\"meal_id\":2290,\"category\":\"Rice Bowl\",\"cuisine\":\"Indian\"},\n",
    "           {\"meal_id\":1525,\"category\":\"Other Snacks\",\"cuisine\":\"Thai\"},\n",
    "           {\"meal_id\":2704,\"category\":\"Other Snacks\",\"cuisine\":\"Thai\"},\n",
    "           {\"meal_id\":1878,\"category\":\"Starters\",\"cuisine\":\"Thai\"},\n",
    "           {\"meal_id\":2640,\"category\":\"Starters\",\"cuisine\":\"Thai\"},\n",
    "           {\"meal_id\":2577,\"category\":\"Starters\",\"cuisine\":\"Thai\"},\n",
    "           {\"meal_id\":1754,\"category\":\"Sandwich\",\"cuisine\":\"Italian\"},\n",
    "           {\"meal_id\":1971,\"category\":\"Sandwich\",\"cuisine\":\"Italian\"},\n",
    "           {\"meal_id\":2306,\"category\":\"Pasta\",\"cuisine\":\"Italian\"},\n",
    "           {\"meal_id\":2139,\"category\":\"Beverages\",\"cuisine\":\"Indian\"},\n",
    "           {\"meal_id\":2826,\"category\":\"Sandwich\",\"cuisine\":\"Italian\"},\n",
    "           {\"meal_id\":2664,\"category\":\"Salad\",\"cuisine\":\"Italian\"},\n",
    "           {\"meal_id\":2569,\"category\":\"Salad\",\"cuisine\":\"Italian\"},\n",
    "           {\"meal_id\":1230,\"category\":\"Beverages\",\"cuisine\":\"Continental\"},\n",
    "           {\"meal_id\":1207,\"category\":\"Beverages\",\"cuisine\":\"Continental\"},\n",
    "           {\"meal_id\":2322,\"category\":\"Beverages\",\"cuisine\":\"Continental\"},\n",
    "           {\"meal_id\":2492,\"category\":\"Desert\",\"cuisine\":\"Indian\"},\n",
    "           {\"meal_id\":1216,\"category\":\"Pasta\",\"cuisine\":\"Italian\"},\n",
    "           {\"meal_id\":1727,\"category\":\"Rice Bowl\",\"cuisine\":\"Indian\"},\n",
    "           {\"meal_id\":1902,\"category\":\"Biryani\",\"cuisine\":\"Indian\"},\n",
    "           {\"meal_id\":1247,\"category\":\"Biryani\",\"cuisine\":\"Indian\"},\n",
    "           {\"meal_id\":2304,\"category\":\"Desert\",\"cuisine\":\"Indian\"},\n",
    "           {\"meal_id\":1543,\"category\":\"Desert\",\"cuisine\":\"Indian\"},\n",
    "           {\"meal_id\":1770,\"category\":\"Biryani\",\"cuisine\":\"Indian\"},\n",
    "           {\"meal_id\":2126,\"category\":\"Pasta\",\"cuisine\":\"Italian\"},\n",
    "           {\"meal_id\":1558,\"category\":\"Pizza\",\"cuisine\":\"Continental\"},\n",
    "           {\"meal_id\":2581,\"category\":\"Pizza\",\"cuisine\":\"Continental\"},\n",
    "           {\"meal_id\":1962,\"category\":\"Pizza\",\"cuisine\":\"Continental\"},\n",
    "           {\"meal_id\":1571,\"category\":\"Fish\",\"cuisine\":\"Continental\"},\n",
    "           {\"meal_id\":2956,\"category\":\"Fish\",\"cuisine\":\"Continental\"},\n",
    "           {\"meal_id\":2104,\"category\":\"Fish\",\"cuisine\":\"Continental\"},\n",
    "           {\"meal_id\":2444,\"category\":\"Seafood\",\"cuisine\":\"Continental\"},\n",
    "           {\"meal_id\":2867,\"category\":\"Seafood\",\"cuisine\":\"Continental\"},\n",
    "           {\"meal_id\":1445,\"category\":\"Seafood\",\"cuisine\":\"Continental\"}]"
   ]
  },
  {
   "cell_type": "code",
   "execution_count": 6,
   "id": "7658d766",
   "metadata": {},
   "outputs": [
    {
     "data": {
      "text/plain": [
       "<pymongo.results.InsertManyResult at 0x246579cd400>"
      ]
     },
     "execution_count": 6,
     "metadata": {},
     "output_type": "execute_result"
    }
   ],
   "source": [
    "#insert_many\n",
    "db.mealinfo.insert_many(record)"
   ]
  },
  {
   "cell_type": "code",
   "execution_count": 7,
   "id": "8af5b687",
   "metadata": {},
   "outputs": [
    {
     "name": "stdout",
     "output_type": "stream",
     "text": [
      "{'meal_id': 1885, 'category': 'Beverages', 'cuisine': 'Thai', '_id': ObjectId('60eed3a0f902bf4b25364a80')}\n",
      "{'meal_id': 1993, 'category': 'Beverages', 'cuisine': 'Thai', '_id': ObjectId('60eed3a0f902bf4b25364a81')}\n",
      "{'meal_id': 2539, 'category': 'Beverages', 'cuisine': 'Thai', '_id': ObjectId('60eed3a0f902bf4b25364a82')}\n",
      "{'meal_id': 1248, 'category': 'Beverages', 'cuisine': 'Indian', '_id': ObjectId('60eed3a0f902bf4b25364a83')}\n",
      "{'meal_id': 2631, 'category': 'Beverages', 'cuisine': 'Indian', '_id': ObjectId('60eed3a0f902bf4b25364a84')}\n",
      "{'meal_id': 1311, 'category': 'Extras', 'cuisine': 'Thai', '_id': ObjectId('60eed3a0f902bf4b25364a85')}\n",
      "{'meal_id': 1062, 'category': 'Beverages', 'cuisine': 'Italian', '_id': ObjectId('60eed3a0f902bf4b25364a86')}\n",
      "{'meal_id': 1778, 'category': 'Beverages', 'cuisine': 'Italian', '_id': ObjectId('60eed3a0f902bf4b25364a87')}\n",
      "{'meal_id': 1803, 'category': 'Extras', 'cuisine': 'Thai', '_id': ObjectId('60eed3a0f902bf4b25364a88')}\n",
      "{'meal_id': 1198, 'category': 'Extras', 'cuisine': 'Thai', '_id': ObjectId('60eed3a0f902bf4b25364a89')}\n",
      "{'meal_id': 2707, 'category': 'Beverages', 'cuisine': 'Italian', '_id': ObjectId('60eed3a0f902bf4b25364a8a')}\n",
      "{'meal_id': 1847, 'category': 'Soup', 'cuisine': 'Thai', '_id': ObjectId('60eed3a0f902bf4b25364a8b')}\n",
      "{'meal_id': 1438, 'category': 'Soup', 'cuisine': 'Thai', '_id': ObjectId('60eed3a0f902bf4b25364a8c')}\n",
      "{'meal_id': 2494, 'category': 'Soup', 'cuisine': 'Thai', '_id': ObjectId('60eed3a0f902bf4b25364a8d')}\n",
      "{'meal_id': 2760, 'category': 'Other Snacks', 'cuisine': 'Thai', '_id': ObjectId('60eed3a0f902bf4b25364a8e')}\n",
      "{'meal_id': 2490, 'category': 'Salad', 'cuisine': 'Italian', '_id': ObjectId('60eed3a0f902bf4b25364a8f')}\n",
      "{'meal_id': 1109, 'category': 'Rice Bowl', 'cuisine': 'Indian', '_id': ObjectId('60eed3a0f902bf4b25364a90')}\n",
      "{'meal_id': 2290, 'category': 'Rice Bowl', 'cuisine': 'Indian', '_id': ObjectId('60eed3a0f902bf4b25364a91')}\n",
      "{'meal_id': 1525, 'category': 'Other Snacks', 'cuisine': 'Thai', '_id': ObjectId('60eed3a0f902bf4b25364a92')}\n",
      "{'meal_id': 2704, 'category': 'Other Snacks', 'cuisine': 'Thai', '_id': ObjectId('60eed3a0f902bf4b25364a93')}\n",
      "{'meal_id': 1878, 'category': 'Starters', 'cuisine': 'Thai', '_id': ObjectId('60eed3a0f902bf4b25364a94')}\n",
      "{'meal_id': 2640, 'category': 'Starters', 'cuisine': 'Thai', '_id': ObjectId('60eed3a0f902bf4b25364a95')}\n",
      "{'meal_id': 2577, 'category': 'Starters', 'cuisine': 'Thai', '_id': ObjectId('60eed3a0f902bf4b25364a96')}\n",
      "{'meal_id': 1754, 'category': 'Sandwich', 'cuisine': 'Italian', '_id': ObjectId('60eed3a0f902bf4b25364a97')}\n",
      "{'meal_id': 1971, 'category': 'Sandwich', 'cuisine': 'Italian', '_id': ObjectId('60eed3a0f902bf4b25364a98')}\n",
      "{'meal_id': 2306, 'category': 'Pasta', 'cuisine': 'Italian', '_id': ObjectId('60eed3a0f902bf4b25364a99')}\n",
      "{'meal_id': 2139, 'category': 'Beverages', 'cuisine': 'Indian', '_id': ObjectId('60eed3a0f902bf4b25364a9a')}\n",
      "{'meal_id': 2826, 'category': 'Sandwich', 'cuisine': 'Italian', '_id': ObjectId('60eed3a0f902bf4b25364a9b')}\n",
      "{'meal_id': 2664, 'category': 'Salad', 'cuisine': 'Italian', '_id': ObjectId('60eed3a0f902bf4b25364a9c')}\n",
      "{'meal_id': 2569, 'category': 'Salad', 'cuisine': 'Italian', '_id': ObjectId('60eed3a0f902bf4b25364a9d')}\n",
      "{'meal_id': 1230, 'category': 'Beverages', 'cuisine': 'Continental', '_id': ObjectId('60eed3a0f902bf4b25364a9e')}\n",
      "{'meal_id': 1207, 'category': 'Beverages', 'cuisine': 'Continental', '_id': ObjectId('60eed3a0f902bf4b25364a9f')}\n",
      "{'meal_id': 2322, 'category': 'Beverages', 'cuisine': 'Continental', '_id': ObjectId('60eed3a0f902bf4b25364aa0')}\n",
      "{'meal_id': 2492, 'category': 'Desert', 'cuisine': 'Indian', '_id': ObjectId('60eed3a0f902bf4b25364aa1')}\n",
      "{'meal_id': 1216, 'category': 'Pasta', 'cuisine': 'Italian', '_id': ObjectId('60eed3a0f902bf4b25364aa2')}\n",
      "{'meal_id': 1727, 'category': 'Rice Bowl', 'cuisine': 'Indian', '_id': ObjectId('60eed3a0f902bf4b25364aa3')}\n",
      "{'meal_id': 1902, 'category': 'Biryani', 'cuisine': 'Indian', '_id': ObjectId('60eed3a0f902bf4b25364aa4')}\n",
      "{'meal_id': 1247, 'category': 'Biryani', 'cuisine': 'Indian', '_id': ObjectId('60eed3a0f902bf4b25364aa5')}\n",
      "{'meal_id': 2304, 'category': 'Desert', 'cuisine': 'Indian', '_id': ObjectId('60eed3a0f902bf4b25364aa6')}\n",
      "{'meal_id': 1543, 'category': 'Desert', 'cuisine': 'Indian', '_id': ObjectId('60eed3a0f902bf4b25364aa7')}\n",
      "{'meal_id': 1770, 'category': 'Biryani', 'cuisine': 'Indian', '_id': ObjectId('60eed3a0f902bf4b25364aa8')}\n",
      "{'meal_id': 2126, 'category': 'Pasta', 'cuisine': 'Italian', '_id': ObjectId('60eed3a0f902bf4b25364aa9')}\n",
      "{'meal_id': 1558, 'category': 'Pizza', 'cuisine': 'Continental', '_id': ObjectId('60eed3a0f902bf4b25364aaa')}\n",
      "{'meal_id': 2581, 'category': 'Pizza', 'cuisine': 'Continental', '_id': ObjectId('60eed3a0f902bf4b25364aab')}\n",
      "{'meal_id': 1962, 'category': 'Pizza', 'cuisine': 'Continental', '_id': ObjectId('60eed3a0f902bf4b25364aac')}\n",
      "{'meal_id': 1571, 'category': 'Fish', 'cuisine': 'Continental', '_id': ObjectId('60eed3a0f902bf4b25364aad')}\n",
      "{'meal_id': 2956, 'category': 'Fish', 'cuisine': 'Continental', '_id': ObjectId('60eed3a0f902bf4b25364aae')}\n",
      "{'meal_id': 2104, 'category': 'Fish', 'cuisine': 'Continental', '_id': ObjectId('60eed3a0f902bf4b25364aaf')}\n",
      "{'meal_id': 2444, 'category': 'Seafood', 'cuisine': 'Continental', '_id': ObjectId('60eed3a0f902bf4b25364ab0')}\n",
      "{'meal_id': 2867, 'category': 'Seafood', 'cuisine': 'Continental', '_id': ObjectId('60eed3a0f902bf4b25364ab1')}\n",
      "{'meal_id': 1445, 'category': 'Seafood', 'cuisine': 'Continental', '_id': ObjectId('60eed3a0f902bf4b25364ab2')}\n"
     ]
    }
   ],
   "source": [
    "for i in record:\n",
    "    print(i)"
   ]
  },
  {
   "cell_type": "code",
   "execution_count": 8,
   "id": "4006f529",
   "metadata": {},
   "outputs": [
    {
     "data": {
      "text/plain": [
       "<pymongo.results.InsertOneResult at 0x24657e86a40>"
      ]
     },
     "execution_count": 8,
     "metadata": {},
     "output_type": "execute_result"
    }
   ],
   "source": [
    "#insert_one\n",
    "rec={\"meal_id\":2000,\"category\":\"sandwich\",\"cuisine\":\"Indian\"}\n",
    "db.mealinfo.insert_one(rec)"
   ]
  },
  {
   "cell_type": "code",
   "execution_count": 9,
   "id": "38d06ae9",
   "metadata": {},
   "outputs": [
    {
     "data": {
      "text/plain": [
       "<pymongo.results.DeleteResult at 0x24657ffc140>"
      ]
     },
     "execution_count": 9,
     "metadata": {},
     "output_type": "execute_result"
    }
   ],
   "source": [
    "#delete\n",
    "recor = {\"meal_id\":1445,\"category\":\"Seafood\",\"cuisine\":\"Continental\"}\n",
    "db.mealinfo.delete_one(recor)\n"
   ]
  },
  {
   "cell_type": "code",
   "execution_count": 10,
   "id": "1d1373f9",
   "metadata": {},
   "outputs": [
    {
     "data": {
      "text/plain": [
       "<pymongo.cursor.Cursor at 0x24657ffbee0>"
      ]
     },
     "execution_count": 10,
     "metadata": {},
     "output_type": "execute_result"
    }
   ],
   "source": [
    "#find\n",
    "db.mealinfo.find()"
   ]
  },
  {
   "cell_type": "code",
   "execution_count": 11,
   "id": "dcd665af",
   "metadata": {},
   "outputs": [
    {
     "name": "stdout",
     "output_type": "stream",
     "text": [
      "{'meal_id': 1885, 'category': 'Beverages', 'cuisine': 'Thai', '_id': ObjectId('60eed3a0f902bf4b25364a80')}\n",
      "{'meal_id': 1993, 'category': 'Beverages', 'cuisine': 'Thai', '_id': ObjectId('60eed3a0f902bf4b25364a81')}\n",
      "{'meal_id': 2539, 'category': 'Beverages', 'cuisine': 'Thai', '_id': ObjectId('60eed3a0f902bf4b25364a82')}\n",
      "{'meal_id': 1248, 'category': 'Beverages', 'cuisine': 'Indian', '_id': ObjectId('60eed3a0f902bf4b25364a83')}\n",
      "{'meal_id': 2631, 'category': 'Beverages', 'cuisine': 'Indian', '_id': ObjectId('60eed3a0f902bf4b25364a84')}\n",
      "{'meal_id': 1311, 'category': 'Extras', 'cuisine': 'Thai', '_id': ObjectId('60eed3a0f902bf4b25364a85')}\n",
      "{'meal_id': 1062, 'category': 'Beverages', 'cuisine': 'Italian', '_id': ObjectId('60eed3a0f902bf4b25364a86')}\n",
      "{'meal_id': 1778, 'category': 'Beverages', 'cuisine': 'Italian', '_id': ObjectId('60eed3a0f902bf4b25364a87')}\n",
      "{'meal_id': 1803, 'category': 'Extras', 'cuisine': 'Thai', '_id': ObjectId('60eed3a0f902bf4b25364a88')}\n",
      "{'meal_id': 1198, 'category': 'Extras', 'cuisine': 'Thai', '_id': ObjectId('60eed3a0f902bf4b25364a89')}\n",
      "{'meal_id': 2707, 'category': 'Beverages', 'cuisine': 'Italian', '_id': ObjectId('60eed3a0f902bf4b25364a8a')}\n",
      "{'meal_id': 1847, 'category': 'Soup', 'cuisine': 'Thai', '_id': ObjectId('60eed3a0f902bf4b25364a8b')}\n",
      "{'meal_id': 1438, 'category': 'Soup', 'cuisine': 'Thai', '_id': ObjectId('60eed3a0f902bf4b25364a8c')}\n",
      "{'meal_id': 2494, 'category': 'Soup', 'cuisine': 'Thai', '_id': ObjectId('60eed3a0f902bf4b25364a8d')}\n",
      "{'meal_id': 2760, 'category': 'Other Snacks', 'cuisine': 'Thai', '_id': ObjectId('60eed3a0f902bf4b25364a8e')}\n",
      "{'meal_id': 2490, 'category': 'Salad', 'cuisine': 'Italian', '_id': ObjectId('60eed3a0f902bf4b25364a8f')}\n",
      "{'meal_id': 1109, 'category': 'Rice Bowl', 'cuisine': 'Indian', '_id': ObjectId('60eed3a0f902bf4b25364a90')}\n",
      "{'meal_id': 2290, 'category': 'Rice Bowl', 'cuisine': 'Indian', '_id': ObjectId('60eed3a0f902bf4b25364a91')}\n",
      "{'meal_id': 1525, 'category': 'Other Snacks', 'cuisine': 'Thai', '_id': ObjectId('60eed3a0f902bf4b25364a92')}\n",
      "{'meal_id': 2704, 'category': 'Other Snacks', 'cuisine': 'Thai', '_id': ObjectId('60eed3a0f902bf4b25364a93')}\n",
      "{'meal_id': 1878, 'category': 'Starters', 'cuisine': 'Thai', '_id': ObjectId('60eed3a0f902bf4b25364a94')}\n",
      "{'meal_id': 2640, 'category': 'Starters', 'cuisine': 'Thai', '_id': ObjectId('60eed3a0f902bf4b25364a95')}\n",
      "{'meal_id': 2577, 'category': 'Starters', 'cuisine': 'Thai', '_id': ObjectId('60eed3a0f902bf4b25364a96')}\n",
      "{'meal_id': 1754, 'category': 'Sandwich', 'cuisine': 'Italian', '_id': ObjectId('60eed3a0f902bf4b25364a97')}\n",
      "{'meal_id': 1971, 'category': 'Sandwich', 'cuisine': 'Italian', '_id': ObjectId('60eed3a0f902bf4b25364a98')}\n",
      "{'meal_id': 2306, 'category': 'Pasta', 'cuisine': 'Italian', '_id': ObjectId('60eed3a0f902bf4b25364a99')}\n",
      "{'meal_id': 2139, 'category': 'Beverages', 'cuisine': 'Indian', '_id': ObjectId('60eed3a0f902bf4b25364a9a')}\n",
      "{'meal_id': 2826, 'category': 'Sandwich', 'cuisine': 'Italian', '_id': ObjectId('60eed3a0f902bf4b25364a9b')}\n",
      "{'meal_id': 2664, 'category': 'Salad', 'cuisine': 'Italian', '_id': ObjectId('60eed3a0f902bf4b25364a9c')}\n",
      "{'meal_id': 2569, 'category': 'Salad', 'cuisine': 'Italian', '_id': ObjectId('60eed3a0f902bf4b25364a9d')}\n",
      "{'meal_id': 1230, 'category': 'Beverages', 'cuisine': 'Continental', '_id': ObjectId('60eed3a0f902bf4b25364a9e')}\n",
      "{'meal_id': 1207, 'category': 'Beverages', 'cuisine': 'Continental', '_id': ObjectId('60eed3a0f902bf4b25364a9f')}\n",
      "{'meal_id': 2322, 'category': 'Beverages', 'cuisine': 'Continental', '_id': ObjectId('60eed3a0f902bf4b25364aa0')}\n",
      "{'meal_id': 2492, 'category': 'Desert', 'cuisine': 'Indian', '_id': ObjectId('60eed3a0f902bf4b25364aa1')}\n",
      "{'meal_id': 1216, 'category': 'Pasta', 'cuisine': 'Italian', '_id': ObjectId('60eed3a0f902bf4b25364aa2')}\n",
      "{'meal_id': 1727, 'category': 'Rice Bowl', 'cuisine': 'Indian', '_id': ObjectId('60eed3a0f902bf4b25364aa3')}\n",
      "{'meal_id': 1902, 'category': 'Biryani', 'cuisine': 'Indian', '_id': ObjectId('60eed3a0f902bf4b25364aa4')}\n",
      "{'meal_id': 1247, 'category': 'Biryani', 'cuisine': 'Indian', '_id': ObjectId('60eed3a0f902bf4b25364aa5')}\n",
      "{'meal_id': 2304, 'category': 'Desert', 'cuisine': 'Indian', '_id': ObjectId('60eed3a0f902bf4b25364aa6')}\n",
      "{'meal_id': 1543, 'category': 'Desert', 'cuisine': 'Indian', '_id': ObjectId('60eed3a0f902bf4b25364aa7')}\n",
      "{'meal_id': 1770, 'category': 'Biryani', 'cuisine': 'Indian', '_id': ObjectId('60eed3a0f902bf4b25364aa8')}\n",
      "{'meal_id': 2126, 'category': 'Pasta', 'cuisine': 'Italian', '_id': ObjectId('60eed3a0f902bf4b25364aa9')}\n",
      "{'meal_id': 1558, 'category': 'Pizza', 'cuisine': 'Continental', '_id': ObjectId('60eed3a0f902bf4b25364aaa')}\n",
      "{'meal_id': 2581, 'category': 'Pizza', 'cuisine': 'Continental', '_id': ObjectId('60eed3a0f902bf4b25364aab')}\n",
      "{'meal_id': 1962, 'category': 'Pizza', 'cuisine': 'Continental', '_id': ObjectId('60eed3a0f902bf4b25364aac')}\n",
      "{'meal_id': 1571, 'category': 'Fish', 'cuisine': 'Continental', '_id': ObjectId('60eed3a0f902bf4b25364aad')}\n",
      "{'meal_id': 2956, 'category': 'Fish', 'cuisine': 'Continental', '_id': ObjectId('60eed3a0f902bf4b25364aae')}\n",
      "{'meal_id': 2104, 'category': 'Fish', 'cuisine': 'Continental', '_id': ObjectId('60eed3a0f902bf4b25364aaf')}\n",
      "{'meal_id': 2444, 'category': 'Seafood', 'cuisine': 'Continental', '_id': ObjectId('60eed3a0f902bf4b25364ab0')}\n",
      "{'meal_id': 2867, 'category': 'Seafood', 'cuisine': 'Continental', '_id': ObjectId('60eed3a0f902bf4b25364ab1')}\n",
      "{'meal_id': 1445, 'category': 'Seafood', 'cuisine': 'Continental', '_id': ObjectId('60eed3a0f902bf4b25364ab2')}\n"
     ]
    }
   ],
   "source": [
    "for i in record:\n",
    "    print(i)"
   ]
  },
  {
   "cell_type": "code",
   "execution_count": 12,
   "id": "aa15c561",
   "metadata": {},
   "outputs": [],
   "source": [
    "#find()\n",
    "var1=db.mealinfo.find({\"category\":\"Beverages\"})"
   ]
  },
  {
   "cell_type": "code",
   "execution_count": 13,
   "id": "fa92990e",
   "metadata": {},
   "outputs": [
    {
     "name": "stdout",
     "output_type": "stream",
     "text": [
      "{'_id': ObjectId('60eed3a0f902bf4b25364a80'), 'meal_id': 1885, 'category': 'Beverages', 'cuisine': 'Thai'}\n",
      "{'_id': ObjectId('60eed3a0f902bf4b25364a81'), 'meal_id': 1993, 'category': 'Beverages', 'cuisine': 'Thai'}\n",
      "{'_id': ObjectId('60eed3a0f902bf4b25364a82'), 'meal_id': 2539, 'category': 'Beverages', 'cuisine': 'Thai'}\n",
      "{'_id': ObjectId('60eed3a0f902bf4b25364a83'), 'meal_id': 1248, 'category': 'Beverages', 'cuisine': 'Indian'}\n",
      "{'_id': ObjectId('60eed3a0f902bf4b25364a84'), 'meal_id': 2631, 'category': 'Beverages', 'cuisine': 'Indian'}\n",
      "{'_id': ObjectId('60eed3a0f902bf4b25364a86'), 'meal_id': 1062, 'category': 'Beverages', 'cuisine': 'Italian'}\n",
      "{'_id': ObjectId('60eed3a0f902bf4b25364a87'), 'meal_id': 1778, 'category': 'Beverages', 'cuisine': 'Italian'}\n",
      "{'_id': ObjectId('60eed3a0f902bf4b25364a8a'), 'meal_id': 2707, 'category': 'Beverages', 'cuisine': 'Italian'}\n",
      "{'_id': ObjectId('60eed3a0f902bf4b25364a9a'), 'meal_id': 2139, 'category': 'Beverages', 'cuisine': 'Indian'}\n",
      "{'_id': ObjectId('60eed3a0f902bf4b25364a9e'), 'meal_id': 1230, 'category': 'Beverages', 'cuisine': 'Continental'}\n",
      "{'_id': ObjectId('60eed3a0f902bf4b25364a9f'), 'meal_id': 1207, 'category': 'Beverages', 'cuisine': 'Continental'}\n",
      "{'_id': ObjectId('60eed3a0f902bf4b25364aa0'), 'meal_id': 2322, 'category': 'Beverages', 'cuisine': 'Continental'}\n"
     ]
    }
   ],
   "source": [
    "for i in var1:\n",
    "    print(i)"
   ]
  },
  {
   "cell_type": "code",
   "execution_count": 14,
   "id": "b6137f6d",
   "metadata": {},
   "outputs": [
    {
     "data": {
      "text/plain": [
       "{'_id': ObjectId('60eed3a0f902bf4b25364a80'),\n",
       " 'meal_id': 1885,\n",
       " 'category': 'Beverages',\n",
       " 'cuisine': 'Thai'}"
      ]
     },
     "execution_count": 14,
     "metadata": {},
     "output_type": "execute_result"
    }
   ],
   "source": [
    "#find_one\n",
    "db.mealinfo.find_one({\"category\":\"Beverages\"})"
   ]
  },
  {
   "cell_type": "code",
   "execution_count": 15,
   "id": "7ecb4762",
   "metadata": {},
   "outputs": [],
   "source": [
    "#sort\n",
    "var5=db.mealinfo.find().sort(\"_id\",1)"
   ]
  },
  {
   "cell_type": "code",
   "execution_count": 16,
   "id": "f3d55fe5",
   "metadata": {},
   "outputs": [
    {
     "name": "stdout",
     "output_type": "stream",
     "text": [
      "{'_id': ObjectId('60eed3a0f902bf4b25364a80'), 'meal_id': 1885, 'category': 'Beverages', 'cuisine': 'Thai'}\n",
      "{'_id': ObjectId('60eed3a0f902bf4b25364a81'), 'meal_id': 1993, 'category': 'Beverages', 'cuisine': 'Thai'}\n",
      "{'_id': ObjectId('60eed3a0f902bf4b25364a82'), 'meal_id': 2539, 'category': 'Beverages', 'cuisine': 'Thai'}\n",
      "{'_id': ObjectId('60eed3a0f902bf4b25364a83'), 'meal_id': 1248, 'category': 'Beverages', 'cuisine': 'Indian'}\n",
      "{'_id': ObjectId('60eed3a0f902bf4b25364a84'), 'meal_id': 2631, 'category': 'Beverages', 'cuisine': 'Indian'}\n",
      "{'_id': ObjectId('60eed3a0f902bf4b25364a85'), 'meal_id': 1311, 'category': 'Extras', 'cuisine': 'Thai'}\n",
      "{'_id': ObjectId('60eed3a0f902bf4b25364a86'), 'meal_id': 1062, 'category': 'Beverages', 'cuisine': 'Italian'}\n",
      "{'_id': ObjectId('60eed3a0f902bf4b25364a87'), 'meal_id': 1778, 'category': 'Beverages', 'cuisine': 'Italian'}\n",
      "{'_id': ObjectId('60eed3a0f902bf4b25364a88'), 'meal_id': 1803, 'category': 'Extras', 'cuisine': 'Thai'}\n",
      "{'_id': ObjectId('60eed3a0f902bf4b25364a89'), 'meal_id': 1198, 'category': 'Extras', 'cuisine': 'Thai'}\n",
      "{'_id': ObjectId('60eed3a0f902bf4b25364a8a'), 'meal_id': 2707, 'category': 'Beverages', 'cuisine': 'Italian'}\n",
      "{'_id': ObjectId('60eed3a0f902bf4b25364a8b'), 'meal_id': 1847, 'category': 'Soup', 'cuisine': 'Thai'}\n",
      "{'_id': ObjectId('60eed3a0f902bf4b25364a8c'), 'meal_id': 1438, 'category': 'Soup', 'cuisine': 'Thai'}\n",
      "{'_id': ObjectId('60eed3a0f902bf4b25364a8d'), 'meal_id': 2494, 'category': 'Soup', 'cuisine': 'Thai'}\n",
      "{'_id': ObjectId('60eed3a0f902bf4b25364a8e'), 'meal_id': 2760, 'category': 'Other Snacks', 'cuisine': 'Thai'}\n",
      "{'_id': ObjectId('60eed3a0f902bf4b25364a8f'), 'meal_id': 2490, 'category': 'Salad', 'cuisine': 'Italian'}\n",
      "{'_id': ObjectId('60eed3a0f902bf4b25364a90'), 'meal_id': 1109, 'category': 'Rice Bowl', 'cuisine': 'Indian'}\n",
      "{'_id': ObjectId('60eed3a0f902bf4b25364a91'), 'meal_id': 2290, 'category': 'Rice Bowl', 'cuisine': 'Indian'}\n",
      "{'_id': ObjectId('60eed3a0f902bf4b25364a92'), 'meal_id': 1525, 'category': 'Other Snacks', 'cuisine': 'Thai'}\n",
      "{'_id': ObjectId('60eed3a0f902bf4b25364a93'), 'meal_id': 2704, 'category': 'Other Snacks', 'cuisine': 'Thai'}\n",
      "{'_id': ObjectId('60eed3a0f902bf4b25364a94'), 'meal_id': 1878, 'category': 'Starters', 'cuisine': 'Thai'}\n",
      "{'_id': ObjectId('60eed3a0f902bf4b25364a95'), 'meal_id': 2640, 'category': 'Starters', 'cuisine': 'Thai'}\n",
      "{'_id': ObjectId('60eed3a0f902bf4b25364a96'), 'meal_id': 2577, 'category': 'Starters', 'cuisine': 'Thai'}\n",
      "{'_id': ObjectId('60eed3a0f902bf4b25364a97'), 'meal_id': 1754, 'category': 'Sandwich', 'cuisine': 'Italian'}\n",
      "{'_id': ObjectId('60eed3a0f902bf4b25364a98'), 'meal_id': 1971, 'category': 'Sandwich', 'cuisine': 'Italian'}\n",
      "{'_id': ObjectId('60eed3a0f902bf4b25364a99'), 'meal_id': 2306, 'category': 'Pasta', 'cuisine': 'Italian'}\n",
      "{'_id': ObjectId('60eed3a0f902bf4b25364a9a'), 'meal_id': 2139, 'category': 'Beverages', 'cuisine': 'Indian'}\n",
      "{'_id': ObjectId('60eed3a0f902bf4b25364a9b'), 'meal_id': 2826, 'category': 'Sandwich', 'cuisine': 'Italian'}\n",
      "{'_id': ObjectId('60eed3a0f902bf4b25364a9c'), 'meal_id': 2664, 'category': 'Salad', 'cuisine': 'Italian'}\n",
      "{'_id': ObjectId('60eed3a0f902bf4b25364a9d'), 'meal_id': 2569, 'category': 'Salad', 'cuisine': 'Italian'}\n",
      "{'_id': ObjectId('60eed3a0f902bf4b25364a9e'), 'meal_id': 1230, 'category': 'Beverages', 'cuisine': 'Continental'}\n",
      "{'_id': ObjectId('60eed3a0f902bf4b25364a9f'), 'meal_id': 1207, 'category': 'Beverages', 'cuisine': 'Continental'}\n",
      "{'_id': ObjectId('60eed3a0f902bf4b25364aa0'), 'meal_id': 2322, 'category': 'Beverages', 'cuisine': 'Continental'}\n",
      "{'_id': ObjectId('60eed3a0f902bf4b25364aa1'), 'meal_id': 2492, 'category': 'Desert', 'cuisine': 'Indian'}\n",
      "{'_id': ObjectId('60eed3a0f902bf4b25364aa2'), 'meal_id': 1216, 'category': 'Pasta', 'cuisine': 'Italian'}\n",
      "{'_id': ObjectId('60eed3a0f902bf4b25364aa3'), 'meal_id': 1727, 'category': 'Rice Bowl', 'cuisine': 'Indian'}\n",
      "{'_id': ObjectId('60eed3a0f902bf4b25364aa4'), 'meal_id': 1902, 'category': 'Biryani', 'cuisine': 'Indian'}\n",
      "{'_id': ObjectId('60eed3a0f902bf4b25364aa5'), 'meal_id': 1247, 'category': 'Biryani', 'cuisine': 'Indian'}\n",
      "{'_id': ObjectId('60eed3a0f902bf4b25364aa6'), 'meal_id': 2304, 'category': 'Desert', 'cuisine': 'Indian'}\n",
      "{'_id': ObjectId('60eed3a0f902bf4b25364aa7'), 'meal_id': 1543, 'category': 'Desert', 'cuisine': 'Indian'}\n",
      "{'_id': ObjectId('60eed3a0f902bf4b25364aa8'), 'meal_id': 1770, 'category': 'Biryani', 'cuisine': 'Indian'}\n",
      "{'_id': ObjectId('60eed3a0f902bf4b25364aa9'), 'meal_id': 2126, 'category': 'Pasta', 'cuisine': 'Italian'}\n",
      "{'_id': ObjectId('60eed3a0f902bf4b25364aaa'), 'meal_id': 1558, 'category': 'Pizza', 'cuisine': 'Continental'}\n",
      "{'_id': ObjectId('60eed3a0f902bf4b25364aab'), 'meal_id': 2581, 'category': 'Pizza', 'cuisine': 'Continental'}\n",
      "{'_id': ObjectId('60eed3a0f902bf4b25364aac'), 'meal_id': 1962, 'category': 'Pizza', 'cuisine': 'Continental'}\n",
      "{'_id': ObjectId('60eed3a0f902bf4b25364aad'), 'meal_id': 1571, 'category': 'Fish', 'cuisine': 'Continental'}\n",
      "{'_id': ObjectId('60eed3a0f902bf4b25364aae'), 'meal_id': 2956, 'category': 'Fish', 'cuisine': 'Continental'}\n",
      "{'_id': ObjectId('60eed3a0f902bf4b25364aaf'), 'meal_id': 2104, 'category': 'Fish', 'cuisine': 'Continental'}\n",
      "{'_id': ObjectId('60eed3a0f902bf4b25364ab0'), 'meal_id': 2444, 'category': 'Seafood', 'cuisine': 'Continental'}\n",
      "{'_id': ObjectId('60eed3a0f902bf4b25364ab1'), 'meal_id': 2867, 'category': 'Seafood', 'cuisine': 'Continental'}\n",
      "{'_id': ObjectId('60eed3a0f902bf4b25364ab3'), 'meal_id': 2000, 'category': 'sandwich', 'cuisine': 'Indian'}\n"
     ]
    }
   ],
   "source": [
    "for i in var5:\n",
    "    print(i)"
   ]
  },
  {
   "cell_type": "code",
   "execution_count": 17,
   "id": "913762c6",
   "metadata": {},
   "outputs": [
    {
     "data": {
      "text/plain": [
       "<pymongo.cursor.Cursor at 0x24658055730>"
      ]
     },
     "execution_count": 17,
     "metadata": {},
     "output_type": "execute_result"
    }
   ],
   "source": [
    "#limit\n",
    "db.mealinfo.find().limit(5)"
   ]
  },
  {
   "cell_type": "code",
   "execution_count": 18,
   "id": "554ae09c",
   "metadata": {},
   "outputs": [
    {
     "data": {
      "text/plain": [
       "<pymongo.results.DeleteResult at 0x246580061c0>"
      ]
     },
     "execution_count": 18,
     "metadata": {},
     "output_type": "execute_result"
    }
   ],
   "source": [
    "#del-many\n",
    "db.mealinfo.delete_many({})"
   ]
  },
  {
   "cell_type": "code",
   "execution_count": 19,
   "id": "74b35b8f",
   "metadata": {},
   "outputs": [],
   "source": [
    "#update_many\n",
    "record1 = {\"meal_id\":1247,\"category\":\"Biryani\",\"cuisine\":\"Indian\"}\n",
    "var7=db.mealinfo.update_many({\"meal_id\":72},{\"$set\":record1})"
   ]
  },
  {
   "cell_type": "code",
   "execution_count": 20,
   "id": "f91a870a",
   "metadata": {},
   "outputs": [],
   "source": [
    "#Drop\n",
    "db.mealinfo.drop()"
   ]
  },
  {
   "cell_type": "code",
   "execution_count": 21,
   "id": "8961409f",
   "metadata": {},
   "outputs": [
    {
     "name": "stdout",
     "output_type": "stream",
     "text": [
      "0\n"
     ]
    },
    {
     "name": "stderr",
     "output_type": "stream",
     "text": [
      "<ipython-input-21-56e0394a42fa>:1: DeprecationWarning: count is deprecated. Use Collection.count_documents instead.\n",
      "  print(db.mealinfo.find().count())\n"
     ]
    }
   ],
   "source": [
    "print(db.mealinfo.find().count())"
   ]
  },
  {
   "cell_type": "code",
   "execution_count": null,
   "id": "b7848548",
   "metadata": {},
   "outputs": [],
   "source": []
  },
  {
   "cell_type": "code",
   "execution_count": null,
   "id": "47cec219",
   "metadata": {},
   "outputs": [],
   "source": []
  }
 ],
 "metadata": {
  "kernelspec": {
   "display_name": "Python 3",
   "language": "python",
   "name": "python3"
  },
  "language_info": {
   "codemirror_mode": {
    "name": "ipython",
    "version": 3
   },
   "file_extension": ".py",
   "mimetype": "text/x-python",
   "name": "python",
   "nbconvert_exporter": "python",
   "pygments_lexer": "ipython3",
   "version": "3.8.8"
  }
 },
 "nbformat": 4,
 "nbformat_minor": 5
}
